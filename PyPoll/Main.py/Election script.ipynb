{
 "cells": [
  {
   "cell_type": "code",
   "execution_count": 4,
   "metadata": {},
   "outputs": [],
   "source": [
    "import pandas as pd"
   ]
  },
  {
   "cell_type": "code",
   "execution_count": 5,
   "metadata": {},
   "outputs": [],
   "source": [
    "election_df = pd.read_csv(r\"C:\\Users\\swamp\\Documents\\Mod-3\\PyPoll\\Resources\\election_data.csv\")"
   ]
  },
  {
   "cell_type": "code",
   "execution_count": 6,
   "metadata": {},
   "outputs": [
    {
     "name": "stdout",
     "output_type": "stream",
     "text": [
      "Total number of votes cast: 369711\n"
     ]
    }
   ],
   "source": [
    "total_votes = election_df['Ballot ID'].count()\n",
    "print(f\"Total number of votes cast: {total_votes}\")\n"
   ]
  },
  {
   "cell_type": "code",
   "execution_count": 7,
   "metadata": {},
   "outputs": [
    {
     "name": "stdout",
     "output_type": "stream",
     "text": [
      "List of candidates who received votes:\n",
      "Charles Casper Stockham\n",
      "Diana DeGette\n",
      "Raymon Anthony Doane\n"
     ]
    }
   ],
   "source": [
    "candidates = election_df['Candidate'].unique()\n",
    "print(\"List of candidates who received votes:\")\n",
    "for candidate in candidates:\n",
    "    print(candidate)\n"
   ]
  },
  {
   "cell_type": "code",
   "execution_count": 10,
   "metadata": {},
   "outputs": [
    {
     "name": "stdout",
     "output_type": "stream",
     "text": [
      "Percentage of votes each candidate won:\n",
      "Charles Casper Stockham: 23.05%\n",
      "Diana DeGette: 73.81%\n",
      "Raymon Anthony Doane: 3.14%\n"
     ]
    }
   ],
   "source": [
    "votes_per_candidate = election_df.groupby('Candidate')['Ballot ID'].count()\n",
    "percentage_votes = (votes_per_candidate / total_votes) * 100\n",
    "print(\"Percentage of votes each candidate won:\")\n",
    "for candidate, percentage in percentage_votes.items():\n",
    "    print(f\"{candidate}: {percentage:.2f}%\")\n",
    "winner = votes_per_candidate.idxmax()\n",
    "winner_votes = votes_per_candidate.max()\n"
   ]
  },
  {
   "cell_type": "code",
   "execution_count": 11,
   "metadata": {},
   "outputs": [
    {
     "name": "stdout",
     "output_type": "stream",
     "text": [
      "Winner of the election: Diana DeGette\n",
      "Total votes received: 272892\n",
      "Election Results\n",
      "-------------------------\n",
      "Total Votes: 369711\n",
      "-------------------------\n",
      "Charles Casper Stockham: 85213 votes (23.05%)\n",
      "Diana DeGette: 272892 votes (73.81%)\n",
      "Raymon Anthony Doane: 11606 votes (3.14%)\n",
      "-------------------------\n",
      "Winner: Diana DeGette\n",
      "Total Votes Received: 272892\n"
     ]
    }
   ],
   "source": [
    "\n",
    "print(f\"Winner of the election: {winner}\")\n",
    "print(f\"Total votes received: {winner_votes}\")\n",
    "results = []\n",
    "results.append(\"Election Results\")\n",
    "results.append(\"-------------------------\")\n",
    "results.append(f\"Total Votes: {total_votes}\")\n",
    "results.append(\"-------------------------\")\n",
    "for candidate, votes in votes_per_candidate.items():\n",
    "    percentage = percentage_votes[candidate]\n",
    "    results.append(f\"{candidate}: {votes} votes ({percentage:.2f}%)\")\n",
    "results.append(\"-------------------------\")\n",
    "results.append(f\"Winner: {winner}\")\n",
    "results.append(f\"Total Votes Received: {winner_votes}\")\n",
    "\n",
    "for line in results:\n",
    "    print(line)\n",
    "\n",
    "with open(\"election_results.txt\", \"w\") as file:\n",
    "    for line in results:\n",
    "        file.write(line + \"\\n\")"
   ]
  },
  {
   "cell_type": "code",
   "execution_count": null,
   "metadata": {},
   "outputs": [],
   "source": []
  }
 ],
 "metadata": {
  "kernelspec": {
   "display_name": "dev",
   "language": "python",
   "name": "python3"
  },
  "language_info": {
   "codemirror_mode": {
    "name": "ipython",
    "version": 3
   },
   "file_extension": ".py",
   "mimetype": "text/x-python",
   "name": "python",
   "nbconvert_exporter": "python",
   "pygments_lexer": "ipython3",
   "version": "3.10.13"
  }
 },
 "nbformat": 4,
 "nbformat_minor": 2
}
