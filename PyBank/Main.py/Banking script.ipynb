{
 "cells": [
  {
   "cell_type": "code",
   "execution_count": 21,
   "metadata": {},
   "outputs": [],
   "source": [
    "import pandas as pd"
   ]
  },
  {
   "cell_type": "code",
   "execution_count": 2,
   "metadata": {},
   "outputs": [
    {
     "data": {
      "text/html": [
       "<div>\n",
       "<style scoped>\n",
       "    .dataframe tbody tr th:only-of-type {\n",
       "        vertical-align: middle;\n",
       "    }\n",
       "\n",
       "    .dataframe tbody tr th {\n",
       "        vertical-align: top;\n",
       "    }\n",
       "\n",
       "    .dataframe thead th {\n",
       "        text-align: right;\n",
       "    }\n",
       "</style>\n",
       "<table border=\"1\" class=\"dataframe\">\n",
       "  <thead>\n",
       "    <tr style=\"text-align: right;\">\n",
       "      <th></th>\n",
       "      <th>Date</th>\n",
       "      <th>Profit/Losses</th>\n",
       "    </tr>\n",
       "  </thead>\n",
       "  <tbody>\n",
       "    <tr>\n",
       "      <th>0</th>\n",
       "      <td>Jan-10</td>\n",
       "      <td>1088983</td>\n",
       "    </tr>\n",
       "    <tr>\n",
       "      <th>1</th>\n",
       "      <td>Feb-10</td>\n",
       "      <td>-354534</td>\n",
       "    </tr>\n",
       "    <tr>\n",
       "      <th>2</th>\n",
       "      <td>Mar-10</td>\n",
       "      <td>276622</td>\n",
       "    </tr>\n",
       "    <tr>\n",
       "      <th>3</th>\n",
       "      <td>Apr-10</td>\n",
       "      <td>-728133</td>\n",
       "    </tr>\n",
       "    <tr>\n",
       "      <th>4</th>\n",
       "      <td>May-10</td>\n",
       "      <td>852993</td>\n",
       "    </tr>\n",
       "  </tbody>\n",
       "</table>\n",
       "</div>"
      ],
      "text/plain": [
       "     Date  Profit/Losses\n",
       "0  Jan-10        1088983\n",
       "1  Feb-10        -354534\n",
       "2  Mar-10         276622\n",
       "3  Apr-10        -728133\n",
       "4  May-10         852993"
      ]
     },
     "execution_count": 2,
     "metadata": {},
     "output_type": "execute_result"
    }
   ],
   "source": [
    "budget_df = pd.read_csv(r\"C:\\Users\\swamp\\Desktop\\School\\HomeWork\\mod3\\Starter_Code\\PyBank\\Resources\\budget_data.csv\")\n"
   ]
  },
  {
   "cell_type": "code",
   "execution_count": null,
   "metadata": {},
   "outputs": [],
   "source": [
    "budget_df.head()"
   ]
  },
  {
   "cell_type": "code",
   "execution_count": 4,
   "metadata": {},
   "outputs": [
    {
     "name": "stdout",
     "output_type": "stream",
     "text": [
      "Total number of months is 86\n"
     ]
    }
   ],
   "source": [
    "budget_df['Date'] = pd.to_datetime(budget_df['Date'], format='%b-%y')\n",
    "unique_months = budget_df['Date'].dt.to_period('M').nunique()\n",
    "print(f'Total number of months is {unique_months}')"
   ]
  },
  {
   "cell_type": "code",
   "execution_count": 5,
   "metadata": {},
   "outputs": [
    {
     "name": "stdout",
     "output_type": "stream",
     "text": [
      "The net total amount of 'Profit/Losses' over the entire period: 22564198\n"
     ]
    }
   ],
   "source": [
    "budget_df['Profit/Losses'] = pd.to_numeric(budget_df['Profit/Losses'], errors='coerce')\n",
    "net_total = budget_df['Profit/Losses'].sum()\n",
    "print(f\"The net total amount of 'Profit/Losses' over the entire period: {net_total}\")"
   ]
  },
  {
   "cell_type": "code",
   "execution_count": 6,
   "metadata": {},
   "outputs": [
    {
     "name": "stdout",
     "output_type": "stream",
     "text": [
      "Average change in 'Profit/Losses' over the entire period: -8311.105882352942\n"
     ]
    }
   ],
   "source": [
    "budget_df['Change'] = budget_df['Profit/Losses'].diff()\n",
    "average_change = budget_df['Change'].mean()\n",
    "print(f\"Average change in 'Profit/Losses' over the entire period: {average_change}\")"
   ]
  },
  {
   "cell_type": "code",
   "execution_count": 7,
   "metadata": {},
   "outputs": [
    {
     "name": "stdout",
     "output_type": "stream",
     "text": [
      "Greatest increase in profits: 2016-08-01T00:00:00.000000000 ($1862002.00)\n"
     ]
    }
   ],
   "source": [
    "max_increase = budget_df['Change'].max()\n",
    "max_increase_date = budget_df.loc[budget_df['Change'] == max_increase, 'Date'].values[0]\n",
    "print(f\"Greatest increase in profits: {max_increase_date} (${max_increase:.2f})\")"
   ]
  },
  {
   "cell_type": "code",
   "execution_count": 8,
   "metadata": {},
   "outputs": [
    {
     "name": "stdout",
     "output_type": "stream",
     "text": [
      "Greatest decrease in profits: 2014-02-01T00:00:00.000000000 ($-1825558.00)\n"
     ]
    }
   ],
   "source": [
    "max_decrease = budget_df['Change'].min()\n",
    "max_decrease_date = budget_df.loc[budget_df['Change'] == max_decrease, 'Date'].values[0]\n",
    "print(f\"Greatest decrease in profits: {max_decrease_date} (${max_decrease:.2f})\")"
   ]
  },
  {
   "cell_type": "code",
   "execution_count": 9,
   "metadata": {},
   "outputs": [
    {
     "name": "stdout",
     "output_type": "stream",
     "text": [
      "Financial Analysis\n",
      "----------------------------\n",
      "Total Months: 86\n",
      "Total: $22564198.00\n",
      "Average Change: $-8311.11\n",
      "Greatest Increase in Profits: 2016-08-01T00:00:00.000000000 ($1862002.00)\n",
      "Greatest Decrease in Profits: 2014-02-01T00:00:00.000000000 ($-1825558.00)\n"
     ]
    }
   ],
   "source": [
    "print(\"Financial Analysis\")\n",
    "print(\"----------------------------\")\n",
    "print(f\"Total Months: {unique_months}\")\n",
    "print(f\"Total: ${net_total:.2f}\")\n",
    "print(f\"Average Change: ${average_change:.2f}\")\n",
    "print(f\"Greatest Increase in Profits: {max_increase_date} (${max_increase:.2f})\")\n",
    "print(f\"Greatest Decrease in Profits: {max_decrease_date} (${max_decrease:.2f})\")\n"
   ]
  },
  {
   "cell_type": "code",
   "execution_count": 10,
   "metadata": {},
   "outputs": [],
   "source": [
    "with open(\"financial_analysis.txt\", \"w\") as file:\n",
    "    file.write(\"Financial Analysis\\n\")\n",
    "    file.write(\"----------------------------\\n\")\n",
    "    file.write(f\"Total Months: {unique_months}\\n\")\n",
    "    file.write(f\"Total: ${net_total:.2f}\\n\")\n",
    "    file.write(f\"Average Change: ${average_change:.2f}\\n\")\n",
    "    file.write(f\"Greatest Increase in Profits: {max_increase_date} (${max_increase:.2f})\\n\")\n",
    "    file.write(f\"Greatest Decrease in Profits: {max_decrease_date} (${max_decrease:.2f})\\n\")"
   ]
  }
 ],
 "metadata": {
  "kernelspec": {
   "display_name": "dev",
   "language": "python",
   "name": "python3"
  },
  "language_info": {
   "codemirror_mode": {
    "name": "ipython",
    "version": 3
   },
   "file_extension": ".py",
   "mimetype": "text/x-python",
   "name": "python",
   "nbconvert_exporter": "python",
   "pygments_lexer": "ipython3",
   "version": "3.10.13"
  }
 },
 "nbformat": 4,
 "nbformat_minor": 2
}
